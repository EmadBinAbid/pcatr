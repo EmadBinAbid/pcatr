{
 "cells": [
  {
   "cell_type": "markdown",
   "metadata": {},
   "source": [
    "In module 1, we calculated the values of lambdas to be as follows:\n",
    "\n",
    "- Friday: 2.5110324812979643\n",
    "- Monday: 3.2606460430855866\n",
    "- Saturday: 1.4358308388428986\n",
    "- Sunday: 1.1392796277047754\n",
    "- Thursday: 2.527942342936874\n",
    "- Tuesday: 3.0535670982256353\n",
    "- Wednesday: 2.8006433379090203\n",
    "\n",
    "Ref: Bootstrapping approach in module 1."
   ]
  },
  {
   "cell_type": "markdown",
   "metadata": {},
   "source": [
    "We have these lambdas, which means we have the expected number of calls in each day. In order to address the problem in module 3, we calculate the percentage of call volume on each day which gives us the estimate of call count in a weekly interval fashion."
   ]
  },
  {
   "cell_type": "code",
   "execution_count": 5,
   "metadata": {
    "collapsed": true
   },
   "outputs": [],
   "source": [
    "fri = 2.50\n",
    "mon = 3.2606460430855866\n",
    "sat = 1.4358308388428986\n",
    "sun = 1.1392796277047754\n",
    "thu = 2.50\n",
    "tue = 3.0535670982256353\n",
    "wed = 2.8006433379090203"
   ]
  },
  {
   "cell_type": "code",
   "execution_count": 6,
   "metadata": {
    "collapsed": true
   },
   "outputs": [],
   "source": [
    "total = mon + tue + wed + thu + fri + sat + sun"
   ]
  },
  {
   "cell_type": "code",
   "execution_count": 7,
   "metadata": {
    "collapsed": true
   },
   "outputs": [],
   "source": [
    "percentageCallCounts = {}\n",
    "\n",
    "percentageCallCounts['mon'] = mon / total * 100\n",
    "percentageCallCounts['tue'] = tue / total * 100\n",
    "percentageCallCounts['wed'] = wed / total * 100\n",
    "percentageCallCounts['thu'] = thu / total * 100\n",
    "percentageCallCounts['fri'] = fri / total * 100\n",
    "percentageCallCounts['sat'] = sat / total * 100\n",
    "percentageCallCounts['sun'] = sun / total * 100"
   ]
  },
  {
   "cell_type": "code",
   "execution_count": 8,
   "metadata": {
    "collapsed": false
   },
   "outputs": [
    {
     "data": {
      "text/plain": [
       "{'fri': 14.979059024643105,\n",
       " 'mon': 19.536563815139196,\n",
       " 'sat': 8.60295795377224,\n",
       " 'sun': 6.826134715585301,\n",
       " 'thu': 14.979059024643105,\n",
       " 'tue': 18.295824720011986,\n",
       " 'wed': 16.780400746205082}"
      ]
     },
     "execution_count": 8,
     "metadata": {},
     "output_type": "execute_result"
    }
   ],
   "source": [
    "percentageCallCounts"
   ]
  }
 ],
 "metadata": {
  "kernelspec": {
   "display_name": "Python 3",
   "language": "python",
   "name": "python3"
  },
  "language_info": {
   "codemirror_mode": {
    "name": "ipython",
    "version": 3
   },
   "file_extension": ".py",
   "mimetype": "text/x-python",
   "name": "python",
   "nbconvert_exporter": "python",
   "pygments_lexer": "ipython3",
   "version": "3.6.8"
  }
 },
 "nbformat": 4,
 "nbformat_minor": 2
}
