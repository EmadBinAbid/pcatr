{
 "cells": [
  {
   "cell_type": "markdown",
   "metadata": {},
   "source": [
    "In module 1, we calculated the values of lambdas to be as follows:\n",
    "\n",
    "- Friday: 2.7090396769028873\n",
    "- Monday: 3.995918696287119\n",
    "- Saturday: 1.5073084719558556\n",
    "- Sunday: 1.1990453278271287\n",
    "- Thursday: 2.84502503835905\n",
    "- Tuesday: 3.520451511642924\n",
    "- Wednesday: 3.0139847413344074\n",
    "\n",
    "Ref: Bootstrapping approach in module 1."
   ]
  },
  {
   "cell_type": "markdown",
   "metadata": {},
   "source": [
    "We have these lambdas, which means we have the expected number of calls in each day. In order to address the problem in module 3, we calculate the percentage of call volume on each day which gives us the estimate of call count in a weekly interval fashion."
   ]
  },
  {
   "cell_type": "code",
   "execution_count": 1,
   "metadata": {
    "collapsed": true
   },
   "outputs": [],
   "source": [
    "fri = 2.7090396769028873\n",
    "mon = 3.995918696287119\n",
    "sat = 1.5073084719558556\n",
    "sun = 1.1990453278271287\n",
    "thu = 2.84502503835905\n",
    "tue = 3.520451511642924\n",
    "wed = 3.0139847413344074"
   ]
  },
  {
   "cell_type": "code",
   "execution_count": 2,
   "metadata": {
    "collapsed": true
   },
   "outputs": [],
   "source": [
    "total = mon + tue + wed + thu + fri + sat + sun"
   ]
  },
  {
   "cell_type": "code",
   "execution_count": 4,
   "metadata": {
    "collapsed": true
   },
   "outputs": [],
   "source": [
    "percentageCallCounts = {}\n",
    "\n",
    "percentageCallCounts['mon'] = mon / total * 100\n",
    "percentageCallCounts['tue'] = tue / total * 100\n",
    "percentageCallCounts['wed'] = wed / total * 100\n",
    "percentageCallCounts['thu'] = thu / total * 100\n",
    "percentageCallCounts['fri'] = fri / total * 100\n",
    "percentageCallCounts['sat'] = sat / total * 100\n",
    "percentageCallCounts['sun'] = sun / total * 100"
   ]
  },
  {
   "cell_type": "code",
   "execution_count": 5,
   "metadata": {
    "collapsed": false
   },
   "outputs": [
    {
     "data": {
      "text/plain": [
       "{'fri': 14.416860924050601,\n",
       " 'mon': 21.265323132530156,\n",
       " 'sat': 8.021535009289488,\n",
       " 'sun': 6.38103231942293,\n",
       " 'thu': 15.140542478268948,\n",
       " 'tue': 18.735000548697816,\n",
       " 'wed': 16.039705587740062}"
      ]
     },
     "execution_count": 5,
     "metadata": {},
     "output_type": "execute_result"
    }
   ],
   "source": [
    "percentageCallCounts"
   ]
  },
  {
   "cell_type": "code",
   "execution_count": null,
   "metadata": {
    "collapsed": true
   },
   "outputs": [],
   "source": []
  }
 ],
 "metadata": {
  "kernelspec": {
   "display_name": "Python 3",
   "language": "python",
   "name": "python3"
  },
  "language_info": {
   "codemirror_mode": {
    "name": "ipython",
    "version": 3
   },
   "file_extension": ".py",
   "mimetype": "text/x-python",
   "name": "python",
   "nbconvert_exporter": "python",
   "pygments_lexer": "ipython3",
   "version": "3.6.8"
  }
 },
 "nbformat": 4,
 "nbformat_minor": 2
}
