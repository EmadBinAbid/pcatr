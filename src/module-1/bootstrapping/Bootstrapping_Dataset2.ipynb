{
 "cells": [
  {
   "cell_type": "markdown",
   "metadata": {},
   "source": [
    "#### Note:"
   ]
  },
  {
   "cell_type": "markdown",
   "metadata": {},
   "source": [
    "In this file we have estimated the rate parameter for the exponential distribution using bootstrapping. This file contains the results of the second dataset of the first module(i.e. When can we expect the next call to come in?)."
   ]
  },
  {
   "cell_type": "code",
   "execution_count": 1,
   "metadata": {},
   "outputs": [],
   "source": [
    "import pandas as pd\n",
    "from matplotlib import pyplot as plt\n",
    "import seaborn as sns\n",
    "import statistics \n",
    "import datetime as dt\n",
    "import PCATR as pcatr\n",
    "import numpy as np\n",
    "import datetime\n",
    "import math\n",
    "from sklearn.utils import resample"
   ]
  },
  {
   "cell_type": "code",
   "execution_count": null,
   "metadata": {},
   "outputs": [],
   "source": [
    "def load(file):\n",
    "    df = pd.read_csv(file)\n",
    "    df.drop(['Unnamed: 0'],inplace=True,axis=1)\n",
    "    df['Calldate'] = pd.to_datetime(df['Calldate'])\n",
    "    df['Calltime'] = pd.to_datetime(df['Calltime'])\n",
    "    return df\n",
    "dataFrame = load('HU_File_Q1_S2.csv')"
   ]
  },
  {
   "cell_type": "code",
   "execution_count": null,
   "metadata": {
    "scrolled": true
   },
   "outputs": [],
   "source": [
    "dataFrame"
   ]
  },
  {
   "cell_type": "code",
   "execution_count": null,
   "metadata": {},
   "outputs": [],
   "source": [
    "def dayOfWeek(df,day):\n",
    "    newData = df[df['DayOfWeek'] == day]\n",
    "    uniqueDates = newData.Calldate.unique()\n",
    "    return newData,uniqueDates"
   ]
  },
  {
   "cell_type": "code",
   "execution_count": null,
   "metadata": {},
   "outputs": [],
   "source": [
    "dataFrame['ArrivalDiff'] = dataFrame.groupby(['Calldate'])['ArrivalTime'].diff().fillna(dataFrame['ArrivalTime'])"
   ]
  },
  {
   "cell_type": "markdown",
   "metadata": {},
   "source": [
    "#### Standard Error:"
   ]
  },
  {
   "cell_type": "markdown",
   "metadata": {},
   "source": [
    "The standard error(SE) is very similar to standard deviation. Both are measures of spread. The higher the number, the more spread out your data is. To put it simply, the two terms are essentially equal — but there is one important difference. While the standard error uses statistics (sample data) standard deviations use parameters (population data). "
   ]
  },
  {
   "cell_type": "code",
   "execution_count": null,
   "metadata": {},
   "outputs": [],
   "source": [
    "def standardError(df):\n",
    "    days = list(df.DayOfWeek.unique())\n",
    "    mean = []\n",
    "    se = []\n",
    "    for i in days:\n",
    "        data,date = dayOfWeek(df,i)\n",
    "        val = data.ArrivalDiff/60\n",
    "        mu1 = sum(val)/val.shape[0]\n",
    "        std = statistics.stdev(val)\n",
    "        se1 = std/math.sqrt(val.shape[0])\n",
    "        print(i,\"Sample size: \",val.shape[0],\"Square root of sample size: \",math.sqrt(val.shape[0]))\n",
    "        mean.append(mu1)\n",
    "        se.append(se1)\n",
    "    return mean,se"
   ]
  },
  {
   "cell_type": "markdown",
   "metadata": {},
   "source": [
    "Here we have calculated standard errors for each day of the week. The function returns two lists. The first list contains mean of arrival differences for each day and the second list contains standard error for each day of the week. We have calculated these because we want to plot standard error bars."
   ]
  },
  {
   "cell_type": "code",
   "execution_count": null,
   "metadata": {},
   "outputs": [],
   "source": [
    "mean,se = standardError(dataFrame)"
   ]
  },
  {
   "cell_type": "markdown",
   "metadata": {},
   "source": [
    "#### Error Bar:"
   ]
  },
  {
   "cell_type": "markdown",
   "metadata": {},
   "source": [
    "An error bar is a line through a point on a graph, parallel to one of the axes, which represents the uncertainty or variation of the corresponding coordinate of the point.\n",
    "\n",
    "Error bars can communicate the following information about your data:\n",
    "How spread the data are around the mean value (small SD bar = low spread, data are clumped around the mean; larger SD bar = larger spread, data are more variable from the mean).\n",
    "\n",
    "The reliability of the mean value as a representative number for the data set.  In other words, how accurately the mean value represents the data (small SD bar = more reliable, larger SD bar = less reliable).  It's important to note that just because you have a larger SD, it does not indicate your data is not valid.  \n",
    "\n",
    "The likelihood of there being a significant difference between between data sets."
   ]
  },
  {
   "cell_type": "markdown",
   "metadata": {},
   "source": [
    "#### What do Error Bars Indicate about Statistical Significance?"
   ]
  },
  {
   "cell_type": "markdown",
   "metadata": {},
   "source": [
    "A \"significant difference\" means that the results that are seen are most likely not due to chance or sampling error.  In any experiment or observation that involves sampling from a population, there is always the possibility that an observed effect would have occurred due to sampling error alone.  But if result is \"significant,\"  then the investigator may conclude that the observed effect actually reflects the characteristics of the population rather than just sampling error or chance.  \n",
    "\n",
    "The standard deviation error bars on a graph can be used to get a sense for whether or not a difference is significant.  Look for overlap between the standard deviation bars:\n",
    "\n",
    "When standard deviation errors bars overlap quite a bit, it's a clue that the difference is not statistically significant.  You must actually perform a statistical test to draw a conclusion. \n",
    "\n",
    "Similarly, when standard deviation errors bars overlap even less, it's a clue that the difference is probably not statistically significant.You must actually perform a statistical test to draw a conclusion.\n",
    "\n",
    "Moreover, when standard deviation error bars do not overlap, it's a clue that the difference may be significant, but you cannot be sure.  You must actually perform a statistical test to draw a conclusion.\n",
    "\n",
    "We can see from our plots that there is no overlap."
   ]
  },
  {
   "cell_type": "code",
   "execution_count": null,
   "metadata": {},
   "outputs": [],
   "source": [
    "# Build the plot\n",
    "#%matplotlib notebook\n",
    "def plotErrorBars(mean,se,df):\n",
    "    days = list(df.DayOfWeek.unique())\n",
    "    fig, ax = plt.subplots()\n",
    "    x_pos = np.arange(len(days))\n",
    "    ax.bar(x_pos, mean, yerr=se, align='center', alpha=0.7, ecolor='black', capsize=10)\n",
    "    ax.set_ylabel('Mean Arrival Difference')\n",
    "    ax.set_xticks(x_pos)\n",
    "    ax.set_xticklabels(days)\n",
    "    ax.set_title('Mean of Arrival Differences for each day of week')\n",
    "    ax.yaxis.grid(True)\n",
    "\n",
    "    # Save the figure and show\n",
    "    plt.tight_layout()\n",
    "    #plt.savefig('bar_plot_with_error_bars.png')\n",
    "    plt.show()\n",
    "    \n",
    "    fig, ax = plt.subplots()\n",
    "    x_pos = np.arange(len(days))\n",
    "    ax.errorbar(x_pos, mean, yerr=se, ecolor='black', fmt='o', capsize=20)\n",
    "    ax.set_ylabel('Mean Arrival Difference')\n",
    "    ax.set_xticks(x_pos)\n",
    "    ax.set_xticklabels(days)\n",
    "    ax.set_title('Mean of Arrival Differences for each day of week')\n",
    "    ax.yaxis.grid(True)\n",
    "\n",
    "    # Save the figure and show\n",
    "    #plt.savefig('bar_plot_with_error_bars.png')\n",
    "    plt.tight_layout()\n",
    "    plt.show()\n",
    "plotErrorBars(mean,se,dataFrame)"
   ]
  },
  {
   "cell_type": "markdown",
   "metadata": {},
   "source": [
    "Made plots of call count per hour for each day of the week to see if there is a peek hour. From the plots it is evident that the calls are randomly distributed within the day and there is no subtle pattern."
   ]
  },
  {
   "cell_type": "code",
   "execution_count": null,
   "metadata": {},
   "outputs": [],
   "source": [
    "def plotCallCountPerHour(df):\n",
    "    days = list(df.DayOfWeek.unique())\n",
    "    hours = df.hour.unique()\n",
    "    l = [i for i in hours]\n",
    "    for i in days:\n",
    "        d, date = dayOfWeek(df,i)\n",
    "        c = d.groupby(['Calldate','hour']).count()\n",
    "        c = c.reset_index()\n",
    "        plt.figure(figsize=(10,7))\n",
    "        sns.swarmplot('hour','DialStart',data=c)\n",
    "        plt.title(i)\n",
    "        plt.show()\n",
    "plotCallCountPerHour(dataFrame)"
   ]
  },
  {
   "cell_type": "markdown",
   "metadata": {},
   "source": [
    "#### Bootstrapping:"
   ]
  },
  {
   "cell_type": "markdown",
   "metadata": {},
   "source": [
    "Simulation methods in which the distribution to be sampled from is determined from data are called bootstrap methods. Bootstrap is a powerful, computer-based method for statistical inference without relying on too many assumption.\n",
    "The basic idea of bootstrap is make inference about a estimate(such as sample mean) for a population parameter θ (such as population mean) on sample data. It is a resampling method by independently sampling with replacement from an existing sample data with same sample size n, and performing inference among these resampled data.\n",
    "\n",
    "Our bootstrapping function takes in the dataFrame as input along with day of week (otherwise it runs on the whole data), number of times it needs to resample. In our bootstrapping approach we make a list which has a length of 90% of data that is being fed in. Then we sample with replacement and calculate the mean. We repeat this process 10000 times. As per the central limit theorem the sample means would form a normal distribution. Our function outputs the list of sample means, the mean of the data being fed in, a list of seed values that were put into the resample function, the lenght of samples and the data that was inputted in the function.\n",
    "\n",
    "Furthermore, we calculate the mean of sample means which we call the bootstrap mean. Then we calculate the difference between the mean of arrival differences of the data and the bootstrap mean to see how much the values differ."
   ]
  },
  {
   "cell_type": "code",
   "execution_count": null,
   "metadata": {},
   "outputs": [],
   "source": [
    "def bootstrap(df,day=None,loop=10000):\n",
    "    if day!=None:\n",
    "        first, _ = dayOfWeek(df,day)\n",
    "    else:\n",
    "        first = df\n",
    "    bootstrapMeans = []\n",
    "    seeds = []\n",
    "    data = np.array(first.ArrivalDiff)\n",
    "    totMean = statistics.mean(data)\n",
    "    samples = round(len(first)*0.9)\n",
    "    seed = 0\n",
    "    for i in range(loop):\n",
    "        bootstrapMeans.append(statistics.mean(resample(data,replace = True, n_samples=samples, random_state=seed )))\n",
    "        seeds.append(seed)\n",
    "        seed+=1\n",
    "        if seed%1000==0:\n",
    "            print(\"epoch\", seed)\n",
    "    return (bootstrapMeans,totMean,seeds,samples,first)\n"
   ]
  },
  {
   "cell_type": "markdown",
   "metadata": {},
   "source": [
    "For each day of the week we calculate the mean of sample means which we call bootstrap mean. Then we calculate the difference between the simple mean (of arrival differences) and the bootstrap mean."
   ]
  },
  {
   "cell_type": "markdown",
   "metadata": {},
   "source": [
    "### Monday"
   ]
  },
  {
   "cell_type": "code",
   "execution_count": null,
   "metadata": {},
   "outputs": [],
   "source": [
    "sampleMeans, meanOfData, seedList, numberofSamples, dayWiseData = bootstrap(dataFrame,'Monday')\n",
    "#print('Simple Mean of data: ',meanOfData,'\\n','Bootstrap Means: ', sampleMeans)"
   ]
  },
  {
   "cell_type": "code",
   "execution_count": null,
   "metadata": {},
   "outputs": [],
   "source": [
    "bootstrapMean = statistics.mean(sampleMeans)\n",
    "print('Simple Mean of data: ',meanOfData,' Bootstrap Mean ', bootstrapMean, ' Difference ', meanOfData-bootstrapMean)"
   ]
  },
  {
   "cell_type": "markdown",
   "metadata": {},
   "source": [
    "### Tuesday"
   ]
  },
  {
   "cell_type": "code",
   "execution_count": null,
   "metadata": {},
   "outputs": [],
   "source": [
    "sampleMeans1, meanOfData1, seedList1, numberofSamples1, dayWiseData1 = bootstrap(dataFrame,'Tuesday')\n",
    "#print('Simple Mean of data: ',meanOfData1,'\\n','Bootstrap Means: ', sampleMeans1)"
   ]
  },
  {
   "cell_type": "code",
   "execution_count": null,
   "metadata": {},
   "outputs": [],
   "source": [
    "bootstrapMean1 = statistics.mean(sampleMeans1)\n",
    "print('Simple Mean of data: ',meanOfData1,' Bootstrap Mean ', bootstrapMean1, ' Difference ', meanOfData1-bootstrapMean1)"
   ]
  },
  {
   "cell_type": "markdown",
   "metadata": {},
   "source": [
    "### Wednesday"
   ]
  },
  {
   "cell_type": "code",
   "execution_count": null,
   "metadata": {},
   "outputs": [],
   "source": [
    "sampleMeans2, meanOfData2, seedList2, numberofSamples2, dayWiseData2 = bootstrap(dataFrame,'Wednesday')\n",
    "#print('Simple Mean of data: ',meanOfData2,'\\n','Bootstrap Means: ', sampleMeans2)"
   ]
  },
  {
   "cell_type": "code",
   "execution_count": null,
   "metadata": {},
   "outputs": [],
   "source": [
    "bootstrapMean2 = statistics.mean(sampleMeans2)\n",
    "print('Simple Mean of data: ',meanOfData2,' Bootstrap Mean ', bootstrapMean2, ' Difference ', meanOfData2-bootstrapMean2)"
   ]
  },
  {
   "cell_type": "markdown",
   "metadata": {},
   "source": [
    "### Thursday"
   ]
  },
  {
   "cell_type": "code",
   "execution_count": null,
   "metadata": {},
   "outputs": [],
   "source": [
    "sampleMeans3, meanOfData3, seedList3, numberofSamples3, dayWiseData3 = bootstrap(dataFrame,'Thursday')\n",
    "#print('Simple Mean of data: ',meanOfData3,'\\n','Bootstrap Means: ', sampleMeans3)"
   ]
  },
  {
   "cell_type": "code",
   "execution_count": null,
   "metadata": {},
   "outputs": [],
   "source": [
    "bootstrapMean3 = statistics.mean(sampleMeans3)\n",
    "print('Simple Mean of data: ',meanOfData3,' Bootstrap Mean ', bootstrapMean3, ' Difference ', meanOfData3-bootstrapMean3)"
   ]
  },
  {
   "cell_type": "markdown",
   "metadata": {},
   "source": [
    "### Friday"
   ]
  },
  {
   "cell_type": "code",
   "execution_count": null,
   "metadata": {},
   "outputs": [],
   "source": [
    "sampleMeans4, meanOfData4, seedList4, numberofSamples4, dayWiseData4 = bootstrap(dataFrame,'Friday')\n",
    "#print('Simple Mean of data: ',meanOfData4,'\\n','Bootstrap Means: ', sampleMeans4)"
   ]
  },
  {
   "cell_type": "code",
   "execution_count": null,
   "metadata": {},
   "outputs": [],
   "source": [
    "bootstrapMean4 = statistics.mean(sampleMeans4)\n",
    "print('Simple Mean of data: ',meanOfData4,' Bootstrap Mean ', bootstrapMean4, ' Difference ', meanOfData4-bootstrapMean4)"
   ]
  },
  {
   "cell_type": "markdown",
   "metadata": {},
   "source": [
    "### Saturday"
   ]
  },
  {
   "cell_type": "code",
   "execution_count": null,
   "metadata": {},
   "outputs": [],
   "source": [
    "sampleMeans5, meanOfData5, seedList5, numberofSamples5, dayWiseData5 = bootstrap(dataFrame,'Saturday')\n",
    "#print('Simple Mean of data: ',meanOfData5,'\\n','Bootstrap Means: ', sampleMeans5)"
   ]
  },
  {
   "cell_type": "code",
   "execution_count": null,
   "metadata": {},
   "outputs": [],
   "source": [
    "bootstrapMean5 = statistics.mean(sampleMeans5)\n",
    "print('Simple Mean of data: ',meanOfData5,' Bootstrap Mean ', bootstrapMean5, ' Difference ', meanOfData5-bootstrapMean5)"
   ]
  },
  {
   "cell_type": "markdown",
   "metadata": {},
   "source": [
    "### Sunday"
   ]
  },
  {
   "cell_type": "code",
   "execution_count": null,
   "metadata": {},
   "outputs": [],
   "source": [
    "sampleMeans6, meanOfData6, seedList6, numberofSamples6, dayWiseData6 = bootstrap(dataFrame,'Sunday')\n",
    "#print('Simple Mean of data: ',meanOfData6,'\\n','Bootstrap Means: ', sampleMeans6)"
   ]
  },
  {
   "cell_type": "code",
   "execution_count": null,
   "metadata": {},
   "outputs": [],
   "source": [
    "bootstrapMean6 = statistics.mean(sampleMeans6)\n",
    "print('Simple Mean of data: ',meanOfData6,' Bootstrap Mean ', bootstrapMean6, ' Difference ', meanOfData6-bootstrapMean6)"
   ]
  },
  {
   "cell_type": "code",
   "execution_count": null,
   "metadata": {},
   "outputs": [],
   "source": [
    "#We plot the sample means of Monday and we can see that the central limit theorem is working. \n",
    "plt.hist(sampleMeans,edgecolor='black')\n",
    "plt.show()"
   ]
  },
  {
   "cell_type": "markdown",
   "metadata": {},
   "source": [
    "We calculate the sample means of the whole dataset i.e. containing all days of week. We then calculate the bootstrap mean and then finally we calculate the difference between the simple mean and bootstrap mean. \n",
    "\n",
    "The purpose of calculating the mean of the whole dataset was to see if there is a difference between the means of individual days and the mean of the whole dataset. \n",
    "\n",
    "Furthermore, by calculating the mean of the whole dataset we could use it to model the days which have same means as the mean of this whole dataset. So instead of finding seven parameters for the exponential random variables we can use lesser number of parameters when there is an overlap. "
   ]
  },
  {
   "cell_type": "code",
   "execution_count": null,
   "metadata": {},
   "outputs": [],
   "source": [
    "bootstrapMeans, totMean, seeds, samples, first = bootstrap(dataFrame,None,10000)    "
   ]
  },
  {
   "cell_type": "code",
   "execution_count": null,
   "metadata": {},
   "outputs": [],
   "source": [
    "print('Mean of whole dataset: ',totMean,'\\n','Bootstrap Means: ', bootstrapMeans)"
   ]
  },
  {
   "cell_type": "code",
   "execution_count": null,
   "metadata": {},
   "outputs": [],
   "source": [
    "bootstrapMean7 = statistics.mean(bootstrapMeans)\n",
    "print('Mean of whole dataset ',totMean,' Bootstrap Mean ', bootstrapMean7, ' Difference ', totMean-bootstrapMean7)"
   ]
  },
  {
   "cell_type": "markdown",
   "metadata": {},
   "source": [
    "We calculate the confidence intervals for our bootstrapping. We use the approach mentioned in the chapter 5 of the book. Statistics for Engineers and Scientists by William Nivadi. \n",
    "We sort the data and then calculate the mean of values from 250-260 for the lower confidence interval and calculate the mean of 9750-9760 value for the upper confidence interval."
   ]
  },
  {
   "cell_type": "code",
   "execution_count": null,
   "metadata": {},
   "outputs": [],
   "source": [
    "def confidenceIntervals(sampMean,tFifth,tSixth,nFifth,nSixth):\n",
    "    sampMean.sort()\n",
    "    lConfInterval = statistics.mean(sampMean[tFifth:tSixth])\n",
    "    uConfInterval = statistics.mean(sampMean[nFifth:nSixth])\n",
    "    return lConfInterval,uConfInterval\n",
    "interval, confInterval = confidenceIntervals(sampMeans,250,261,9750,9761)\n",
    "interval1, confInterval1 = confidenceIntervals(sampMeans1,250,261,9750,9761)\n",
    "interval2, confInterval2 = confidenceIntervals(sampMeans2,250,261,9750,9761)\n",
    "interval3, confInterval3 = confidenceIntervals(sampMeans3,250,261,9750,9761)\n",
    "interval4, confInterval4 = confidenceIntervals(sampMeans4,250,261,9750,9761)\n",
    "interval5, confInterval5 = confidenceIntervals(sampMeans5,250,261,9750,9761)\n",
    "interval6, confInterval6 = confidenceIntervals(sampMeans6,250,261,9750,9761)\n",
    "interval7, confInterval7 = confidenceIntervals(sampMeans7,250,261,9750,9761)"
   ]
  },
  {
   "cell_type": "markdown",
   "metadata": {},
   "source": [
    "To save and load data."
   ]
  },
  {
   "cell_type": "code",
   "execution_count": null,
   "metadata": {},
   "outputs": [],
   "source": [
    "#import pickle\n",
    "#with open('bootstrapmeans.pkl', 'wb') as f:\n",
    "#    pickle.dump(bootstrapMeans, f)\n",
    "#with open('totalmean.pkl', 'wb') as f:\n",
    "#    pickle.dump(totMean, f)\n",
    "    \n",
    "\n",
    "#with open('Exponential/mondaysecondwisedatamean6.pkl', 'rb') as f:\n",
    "#    meanOfData6 = pickle.load(f)\n",
    "\n"
   ]
  },
  {
   "cell_type": "markdown",
   "metadata": {},
   "source": [
    "Plotting the bootstrap Means of each day and the bootstrap Mean of the whole dataset along with confidence intervals. If there is an overlap between confidence intervals we can say that the difference between those two particular means is not statistically significant.\n",
    "\n",
    "From our plots we can see the mean of the week overlaps with Friday hence the difference is not statistically significant. However, since there is only one overlap so we still need seven parameters or seven expected values to make an exponential distribution for each day of the week. Hence, we do not perform any hypothesis testing."
   ]
  },
  {
   "cell_type": "code",
   "execution_count": null,
   "metadata": {},
   "outputs": [],
   "source": [
    "from matplotlib.patches import Rectangle\n",
    "plt.figure(figsize=(13,7))\n",
    "plt.title('Bootstrap Means with confidence Intervals')\n",
    "plt.axvline(bootstrapMean7, color='red', linestyle='-', linewidth=1)\n",
    "plt.axvline(interval7, color='red', linestyle='dashed', linewidth=1)\n",
    "plt.axvline(confInterval7, color='red', linestyle='dashed', linewidth=1)\n",
    "plt.axvline(bootstrapMean, color='green', linestyle='-', linewidth=1)\n",
    "plt.axvline(interval, color='green', linestyle='dashed', linewidth=1)\n",
    "plt.axvline(confInterval, color='green', linestyle='dashed', linewidth=1)\n",
    "plt.axvline(bootstrapMean1, color='yellow', linestyle='-', linewidth=1)\n",
    "plt.axvline(interval1, color='yellow', linestyle='dashed', linewidth=1)\n",
    "plt.axvline(confInterval1, color='yellow', linestyle='dashed', linewidth=1)\n",
    "plt.axvline(bootstrapMean2, color='orange', linestyle='-', linewidth=1)\n",
    "plt.axvline(interval2, color='orange', linestyle='dashed', linewidth=1)\n",
    "plt.axvline(confInterval2, color='orange', linestyle='dashed', linewidth=1)\n",
    "plt.axvline(bootstrapMean3, color='blue', linestyle='-', linewidth=1)\n",
    "plt.axvline(interval3, color='blue', linestyle='dashed', linewidth=1)\n",
    "plt.axvline(confInterval3, color='blue', linestyle='dashed', linewidth=1)\n",
    "plt.axvline(bootstrapMean4, color='purple', linestyle='-', linewidth=1)\n",
    "plt.axvline(interval4, color='purple', linestyle='dashed', linewidth=1)\n",
    "plt.axvline(confInterval4, color='purple', linestyle='dashed', linewidth=1)\n",
    "plt.axvline(bootstrapMean5, color='brown', linestyle='-', linewidth=1)\n",
    "plt.axvline(interval5, color='brown', linestyle='dashed', linewidth=1)\n",
    "plt.axvline(confInterval5, color='brown', linestyle='dashed', linewidth=1)\n",
    "plt.axvline(bootstrapMean6, color='black', linestyle='-', linewidth=1)\n",
    "plt.axvline(interval6, color='black', linestyle='dashed', linewidth=1)\n",
    "plt.axvline(confInterval6, color='black', linestyle='dashed', linewidth=1)\n",
    "handles = [Rectangle((0,0),1,1,color=c,ec=\"k\") for c in ['red','green','yellow','orange','blue','purple','brown','black']]\n",
    "labels= [\"Week\",\"Mon\", \"Tue\",\"Wed\",\"Thu\",\"Fri\",\"Sat\",\"Sun\"]\n",
    "plt.legend(handles, labels,bbox_to_anchor=(1, 0.5),shadow=True)\n",
    "plt.xlabel(\"Arrival Difference between consecutive calls\")\n",
    "plt.show()"
   ]
  },
  {
   "cell_type": "code",
   "execution_count": null,
   "metadata": {},
   "outputs": [],
   "source": [
    "from matplotlib.patches import Rectangle\n",
    "plt.figure(figsize=(13,7))\n",
    "plt.title(\"Bootstrap Mean of the whole Week and Friday\")\n",
    "plt.hist(bootstrapMeans,edgecolor='black')\n",
    "plt.axvline(bootstrapMean7, color='red', linestyle='-', linewidth=1)\n",
    "plt.axvline(interval7, color='red', linestyle='dashed', linewidth=1)\n",
    "plt.axvline(confInterval7, color='red', linestyle='dashed', linewidth=1)\n",
    "plt.axvline(bootstrapMean4, color='purple', linestyle='-', linewidth=1)\n",
    "plt.axvline(interval4, color='purple', linestyle='dashed', linewidth=1)\n",
    "plt.axvline(confInterval4, color='purple', linestyle='dashed', linewidth=1)\n",
    "handles = [Rectangle((0,0),1,1,color=c,ec=\"k\") for c in ['red','purple']]\n",
    "labels= [\"Week\",\"Fri\"]\n",
    "plt.legend(handles, labels,bbox_to_anchor=(1, 0.5),shadow=True)\n",
    "plt.xlabel(\"Arrival Difference between consecutive calls\")\n",
    "plt.show()"
   ]
  },
  {
   "cell_type": "markdown",
   "metadata": {},
   "source": [
    "Since the bootstrap mean of thursday and friday are overlapping we perform the z-test to see if the two means are different or not.\n",
    "\n",
    "We keep our null hypothesis as the two means are not different.\n",
    "\n",
    "We perform the z-test and the p-value for the z-score -0.954 turns out to be 0.34 therefore we accept the null hypothesis that the two means are same.\n"
   ]
  },
  {
   "cell_type": "code",
   "execution_count": null,
   "metadata": {},
   "outputs": [],
   "source": [
    "thur = dataFrame[dataFrame.DayOfWeek=='Thursday']\n",
    "fri = dataFrame[dataFrame.DayOfWeek=='Friday']\n",
    "def z_test(t1,t2):\n",
    "    val = t1.ArrivalDiff\n",
    "    mu1 = sum(val)/val.shape[0]\n",
    "    print(val.shape[0]/sum(val))\n",
    "    val2 = t2\n",
    "    val2 = val2.ArrivalDiff\n",
    "    mu2 = sum(val2)/val2.shape[0]\n",
    "    std1 = statistics.stdev(val)\n",
    "    std2 = statistics.stdev(val2)\n",
    "    var1 = statistics.variance(val)\n",
    "    var2 = statistics.variance(val2)\n",
    "\n",
    "    print(' train mean:',mu1,'\\n test mean:', mu2, \n",
    "          '\\n train st-dev:',std1, \n",
    "          '\\n test st-dev:',std2, \n",
    "          '\\n train variance:',var1, \n",
    "          '\\n test variance:',var2) \n",
    "\n",
    "    n1 = val.shape[0]\n",
    "    n2 = val2.shape[0]\n",
    "    dof = n1+n2-2\n",
    "    rootNum = (n1-1)*var1+(n2-1)*var2\n",
    "    num = mu1 - mu2\n",
    "    zscore = num/math.sqrt( ((var1)/n1) + ((var2)/n2) )\n",
    "    print('Difference ',num,'Zscore ',zscore)\n",
    "    print('Variance1 ',var1,'Variance2 ',var2)\n",
    "z_test(thur,fri)"
   ]
  },
  {
   "cell_type": "markdown",
   "metadata": {},
   "source": [
    "The seven bootstrap means or our expected values are as follows: \n",
    "\n",
    "Expected value for Monday =  18.400408229325677\n",
    "\n",
    "Expected value for Tuesday = 19.64763040527629 \n",
    "\n",
    "Expected value for Wednesday = 21.424941410588588 \n",
    "\n",
    "Expected value for Thursday =  23.73590126455369 \n",
    "\n",
    "Expected value for Friday = 23.897650829770267\n",
    "\n",
    "Expected value for Saturday = 41.78701247135073\n",
    "\n",
    "Expected value for Sunday = 52.66931993895529\n",
    "\n",
    "Expected value for the whole week =  25.219208887955816 \n",
    "\n",
    "\n",
    "Since thursday and friday are not different we can use the same expected value for both.\n",
    "We can calculate the rate parameter by the following formula lambda = 1/E[x].\n"
   ]
  },
  {
   "cell_type": "code",
   "execution_count": null,
   "metadata": {},
   "outputs": [],
   "source": [
    "#calls per minute or arrival rate per minute \n",
    "lambdas = {}\n",
    "mon = meanOfData/60\n",
    "mon = 1/mon\n",
    "lambdas['mon'] = mon\n",
    "tue = meanOfData1/60\n",
    "tue = 1/tue\n",
    "lambdas['tue'] = tue\n",
    "wed = meanOfData2/60\n",
    "wed = 1/wed\n",
    "lambdas['wed'] = wed\n",
    "thu = meanOfData3/60\n",
    "thu = 1/thu\n",
    "lambdas['thu'] = thu\n",
    "fri = meanOfData4/60\n",
    "fri = 1/fri\n",
    "lambdas['fri'] = fri\n",
    "sat = meanOfData5/60\n",
    "sat = 1/sat\n",
    "lambdas['sat'] = sat\n",
    "sun = meanOfData6/60\n",
    "sun = 1/sun\n",
    "lambdas['sun'] = sun\n",
    "week = totMean/60\n",
    "week = 1/week\n",
    "lambdas['week'] = week\n"
   ]
  },
  {
   "cell_type": "code",
   "execution_count": null,
   "metadata": {},
   "outputs": [],
   "source": [
    "lambdas"
   ]
  },
  {
   "cell_type": "markdown",
   "metadata": {},
   "source": [
    "References:\n",
    "\n",
    "\n",
    "https://towardsdatascience.com/an-introduction-to-the-bootstrap-method-58bcb51b4d60\n",
    "\n",
    "https://www.statisticshowto.datasciencecentral.com/what-is-the-standard-error-of-a-sample/\n",
    "\n",
    "https://www.biologyforlife.com/interpreting-error-bars.html\n",
    "\n",
    "https://www.academia.edu/35637181/_William_Navidi_Statistics_for_Engineers_and_Scie_BookFi_ \n"
   ]
  }
 ],
 "metadata": {
  "kernelspec": {
   "display_name": "Python 3",
   "language": "python",
   "name": "python3"
  },
  "language_info": {
   "codemirror_mode": {
    "name": "ipython",
    "version": 3
   },
   "file_extension": ".py",
   "mimetype": "text/x-python",
   "name": "python",
   "nbconvert_exporter": "python",
   "pygments_lexer": "ipython3",
   "version": "3.7.3"
  }
 },
 "nbformat": 4,
 "nbformat_minor": 2
}
