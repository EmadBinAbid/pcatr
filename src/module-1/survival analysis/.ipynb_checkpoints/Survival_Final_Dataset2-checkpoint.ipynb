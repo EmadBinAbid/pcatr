{
 "cells": [
  {
   "cell_type": "markdown",
   "metadata": {},
   "source": [
    "Survival Analysis\n",
    "\n",
    "    - Survival Analysis is used to estimate the lifespan of a particular population under study. It is also called ‘Time to Event’ Analysis as the goal is to estimate the time for an individual or a group of individuals to experience an event of interest. This time estimate is the duration between birth and death events. Survival Analysis was originally developed and used by Medical Researchers and Data Analysts to measure the lifetimes of a certain population. But, over the years, it has been used in various other applications such as predicting churning customers/employees, estimation of the lifetime of a Machine, etc. The birth event can be thought of as the time of a customer starts their membership with a company, and the death event can be considered as the customer leaving the company.\n",
    "\n",
    "    - In our context, from the perspective of a life and death scenario, the death of a call occurs when a call is received. This means that all the calls are, initially, placed at a reference life, also known as their point of birth, and these calls die after an interval, in other words, a call is received. Therefore, Survival Analysis estimates the survival or the death (aka call arrival) of the call.\n"
   ]
  },
  {
   "cell_type": "code",
   "execution_count": 2,
   "metadata": {},
   "outputs": [],
   "source": [
    "import pandas as pd\n",
    "import statistics\n",
    "import datetime\n",
    "import matplotlib.pyplot as plt\n",
    "import os\n",
    "import numpy as np\n"
   ]
  },
  {
   "cell_type": "markdown",
   "metadata": {},
   "source": [
    "The block below conducts pre-processing of the data. \n",
    "What we require are the Interval Differences between successive calls. To obtain that, we need to compute the differences between successive Dial Start rows. \n",
    "\n",
    "For data analysis's sake, we introduced more columns, derived from the original ones, to understand if they were statistically significant on the Interval Differences. We did not obtain a solid conclusion regarding that. \n"
   ]
  },
  {
   "cell_type": "code",
   "execution_count": 4,
   "metadata": {},
   "outputs": [
    {
     "ename": "ValueError",
     "evalue": "Unable to parse string \"7:\" at position 0",
     "output_type": "error",
     "traceback": [
      "\u001b[1;31m---------------------------------------------------------------------------\u001b[0m",
      "\u001b[1;31mValueError\u001b[0m                                Traceback (most recent call last)",
      "\u001b[1;32mpandas\\_libs\\lib.pyx\u001b[0m in \u001b[0;36mpandas._libs.lib.maybe_convert_numeric\u001b[1;34m()\u001b[0m\n",
      "\u001b[1;31mValueError\u001b[0m: Unable to parse string \"7:\"",
      "\nDuring handling of the above exception, another exception occurred:\n",
      "\u001b[1;31mValueError\u001b[0m                                Traceback (most recent call last)",
      "\u001b[1;32m<ipython-input-4-4aa9e2531cd1>\u001b[0m in \u001b[0;36m<module>\u001b[1;34m\u001b[0m\n\u001b[0;32m     47\u001b[0m     \u001b[1;32mreturn\u001b[0m \u001b[0mdata\u001b[0m\u001b[1;33m\u001b[0m\u001b[1;33m\u001b[0m\u001b[0m\n\u001b[0;32m     48\u001b[0m \u001b[1;33m\u001b[0m\u001b[0m\n\u001b[1;32m---> 49\u001b[1;33m \u001b[0mdata\u001b[0m \u001b[1;33m=\u001b[0m \u001b[0mProcessing_Calltime\u001b[0m\u001b[1;33m(\u001b[0m\u001b[0mdata\u001b[0m\u001b[1;33m)\u001b[0m\u001b[1;33m\u001b[0m\u001b[1;33m\u001b[0m\u001b[0m\n\u001b[0m\u001b[0;32m     50\u001b[0m \u001b[1;33m\u001b[0m\u001b[0m\n\u001b[0;32m     51\u001b[0m \u001b[0mdata\u001b[0m \u001b[1;33m=\u001b[0m \u001b[0mProcessing_Date\u001b[0m\u001b[1;33m(\u001b[0m\u001b[0mdata\u001b[0m\u001b[1;33m)\u001b[0m\u001b[1;33m\u001b[0m\u001b[1;33m\u001b[0m\u001b[0m\n",
      "\u001b[1;32m<ipython-input-4-4aa9e2531cd1>\u001b[0m in \u001b[0;36mProcessing_Calltime\u001b[1;34m(data)\u001b[0m\n\u001b[0;32m      6\u001b[0m     \u001b[0mdata\u001b[0m \u001b[1;33m=\u001b[0m \u001b[0mdata\u001b[0m\u001b[1;33m.\u001b[0m\u001b[0mdrop\u001b[0m\u001b[1;33m(\u001b[0m\u001b[0mcolumns\u001b[0m\u001b[1;33m=\u001b[0m\u001b[1;33m[\u001b[0m\u001b[1;34m\"DialStart\"\u001b[0m\u001b[1;33m]\u001b[0m\u001b[1;33m)\u001b[0m\u001b[1;33m\u001b[0m\u001b[1;33m\u001b[0m\u001b[0m\n\u001b[0;32m      7\u001b[0m     \u001b[0mdata\u001b[0m\u001b[1;33m[\u001b[0m\u001b[1;34m'Hour'\u001b[0m\u001b[1;33m]\u001b[0m \u001b[1;33m=\u001b[0m \u001b[0mdata\u001b[0m\u001b[1;33m.\u001b[0m\u001b[0mTime_of_Call\u001b[0m\u001b[1;33m.\u001b[0m\u001b[0mstr\u001b[0m\u001b[1;33m[\u001b[0m\u001b[1;33m:\u001b[0m\u001b[1;36m2\u001b[0m\u001b[1;33m]\u001b[0m\u001b[1;33m\u001b[0m\u001b[1;33m\u001b[0m\u001b[0m\n\u001b[1;32m----> 8\u001b[1;33m     \u001b[0mdata\u001b[0m\u001b[1;33m[\u001b[0m\u001b[1;34m'Hour'\u001b[0m\u001b[1;33m]\u001b[0m \u001b[1;33m=\u001b[0m \u001b[0mpd\u001b[0m\u001b[1;33m.\u001b[0m\u001b[0mto_numeric\u001b[0m\u001b[1;33m(\u001b[0m\u001b[0mdata\u001b[0m\u001b[1;33m[\u001b[0m\u001b[1;34m'Hour'\u001b[0m\u001b[1;33m]\u001b[0m\u001b[1;33m)\u001b[0m\u001b[1;33m\u001b[0m\u001b[1;33m\u001b[0m\u001b[0m\n\u001b[0m\u001b[0;32m      9\u001b[0m \u001b[1;33m\u001b[0m\u001b[0m\n\u001b[0;32m     10\u001b[0m     \u001b[0mdata\u001b[0m\u001b[1;33m[\u001b[0m\u001b[1;34m'Minutes'\u001b[0m\u001b[1;33m]\u001b[0m \u001b[1;33m=\u001b[0m \u001b[0mdata\u001b[0m\u001b[1;33m.\u001b[0m\u001b[0mTime_of_Call\u001b[0m\u001b[1;33m.\u001b[0m\u001b[0mstr\u001b[0m\u001b[1;33m[\u001b[0m\u001b[1;36m3\u001b[0m\u001b[1;33m:\u001b[0m\u001b[1;36m5\u001b[0m\u001b[1;33m]\u001b[0m\u001b[1;33m\u001b[0m\u001b[1;33m\u001b[0m\u001b[0m\n",
      "\u001b[1;32mc:\\users\\syed bilal hoda\\appdata\\local\\programs\\python\\python37\\lib\\site-packages\\pandas\\core\\tools\\numeric.py\u001b[0m in \u001b[0;36mto_numeric\u001b[1;34m(arg, errors, downcast)\u001b[0m\n\u001b[0;32m    133\u001b[0m             \u001b[0mcoerce_numeric\u001b[0m \u001b[1;33m=\u001b[0m \u001b[1;32mFalse\u001b[0m \u001b[1;32mif\u001b[0m \u001b[0merrors\u001b[0m \u001b[1;32min\u001b[0m \u001b[1;33m(\u001b[0m\u001b[1;34m'ignore'\u001b[0m\u001b[1;33m,\u001b[0m \u001b[1;34m'raise'\u001b[0m\u001b[1;33m)\u001b[0m \u001b[1;32melse\u001b[0m \u001b[1;32mTrue\u001b[0m\u001b[1;33m\u001b[0m\u001b[1;33m\u001b[0m\u001b[0m\n\u001b[0;32m    134\u001b[0m             values = lib.maybe_convert_numeric(values, set(),\n\u001b[1;32m--> 135\u001b[1;33m                                                coerce_numeric=coerce_numeric)\n\u001b[0m\u001b[0;32m    136\u001b[0m \u001b[1;33m\u001b[0m\u001b[0m\n\u001b[0;32m    137\u001b[0m     \u001b[1;32mexcept\u001b[0m \u001b[0mException\u001b[0m\u001b[1;33m:\u001b[0m\u001b[1;33m\u001b[0m\u001b[1;33m\u001b[0m\u001b[0m\n",
      "\u001b[1;32mpandas\\_libs\\lib.pyx\u001b[0m in \u001b[0;36mpandas._libs.lib.maybe_convert_numeric\u001b[1;34m()\u001b[0m\n",
      "\u001b[1;31mValueError\u001b[0m: Unable to parse string \"7:\" at position 0"
     ]
    }
   ],
   "source": [
    "data = pd.read_csv(\"../dataset/data.csv\")\n",
    "\n",
    "def Processing_Calltime(data):\n",
    "    Date = data[\"Calltime\"].str.split(\" \", n=1, expand=True)\n",
    "    data[\"Time_of_Call\"] = Date[1]\n",
    "    data = data.drop(columns=[\"DialStart\"])\n",
    "    data['Hour'] = data.Time_of_Call.str[:2]\n",
    "    data['Hour'] = pd.to_numeric(data['Hour'])\n",
    "    \n",
    "    data['Minutes'] = data.Time_of_Call.str[3:5]\n",
    "    data['Minutes'] = pd.to_numeric(data['Minutes'])\n",
    "    data['Seconds'] = data.Time_of_Call.str[6:]\n",
    "    data['Seconds'] = pd.to_numeric(data['Seconds'])\n",
    "    \n",
    "    return data\n",
    "\n",
    "def Processing_Date(data):\n",
    "    Date = data[\"Calldate\"].str.split('-', n=2, expand=True)   \n",
    "    data['Year'] = Date[0]\n",
    "    data['Month'] = Date[1]\n",
    "    data['Day_Date'] = Date[2]\n",
    "    data['Year'] = pd.to_numeric(data['Year'])\n",
    "    data['Month'] = pd.to_numeric(data['Month'])\n",
    "    data['Day_Date'] = pd.to_numeric(data['Day_Date'])\n",
    "    return data\n",
    "\n",
    "\n",
    "def Interval_Diff_Calc(data):\n",
    "    Interval_Difference = [49.200555]\n",
    "    ArrivalTime_Tracker = [49.200555]\n",
    "    count = 0\n",
    "    for i in data['ArrivalTime']:\n",
    "        if count > 0:\n",
    "\n",
    "            if i > ArrivalTime_Tracker[-1]:\n",
    "                Interval_Difference.append(i - ArrivalTime_Tracker[-1])\n",
    "            else:\n",
    "                Interval_Difference.append(i)\n",
    "\n",
    "            ArrivalTime_Tracker.append(i)\n",
    "\n",
    "        count = count + 1\n",
    "\n",
    "\n",
    "    data['Interval_Difference'] = Interval_Difference\n",
    "    data.to_csv('Check.csv')\n",
    "    return data\n",
    "     \n",
    "data = Processing_Calltime(data)\n",
    "\n",
    "data = Processing_Date(data)\n",
    "\n",
    "data = Interval_Diff_Calc(data)\n",
    "\n",
    "data['DateTime'] = data['Calldate'] + ' ' + data.Time_of_Call.str[:5]\n",
    "\n",
    "data\n"
   ]
  },
  {
   "cell_type": "markdown",
   "metadata": {},
   "source": [
    "Survival Analysis Application\n",
    "\n",
    "    Utilized Kaplan Meir Estimator to form a Probability Density Functions, which is a conditional distribution. \n",
    "    \n",
    "    The advantage of KMS lies in its essence of being a non-parametric estimator. Parametric Estimators assume that the data follows a certain distribution and utilizies the parameters of the distribution to obtain results. KMS, instead, form a PDF by directly computing conditional probabilities from the data. \n",
    "\n",
    "    Kaplan-Meier estimate is one of the best options to be used to measure the fraction of subjects living for a certain amount of time after treatment. In clinical trials or community trials, the effect of an intervention is assessed by measuring the number of subjects survived or saved after that intervention over a period of time. The time starting from a defined point to the occurrence of a given event, for example death is called as survival time and the analysis of group data as survival analysis. This can be affected by subjects under study that are uncooperative and refused to be remained in the study or when some of the subjects may not experience the event or death before the end of the study, although they would have experienced or died if observation continued, or we lose touch with them midway in the study. We label these situations as censored observations. The Kaplan-Meier estimate is the simplest way of computing the survival over time in spite of all these difficulties associated with subjects or situations. The survival curve can be created assuming various situations. It involves computing of probabilities of occurrence of event at a certain point of time and multiplying these successive probabilities by any earlier computed probabilities to get the final estimate. This can be calculated for two groups of subjects and also their statistical difference in the survivals. This can be used in Ayurveda research when they are comparing two drugs and looking for survival of subjects.\n"
   ]
  },
  {
   "cell_type": "code",
   "execution_count": 33,
   "metadata": {},
   "outputs": [
    {
     "name": "stdin",
     "output_type": "stream",
     "text": [
      "Select the day to work with:  Sunday\n"
     ]
    },
    {
     "name": "stderr",
     "output_type": "stream",
     "text": [
      "c:\\users\\hp\\appdata\\local\\programs\\python\\python37\\lib\\site-packages\\ipykernel_launcher.py:5: SettingWithCopyWarning: \n",
      "A value is trying to be set on a copy of a slice from a DataFrame.\n",
      "Try using .loc[row_indexer,col_indexer] = value instead\n",
      "\n",
      "See the caveats in the documentation: http://pandas.pydata.org/pandas-docs/stable/user_guide/indexing.html#returning-a-view-versus-a-copy\n",
      "  \"\"\"\n"
     ]
    },
    {
     "data": {
      "image/png": "[encoded data removed]",
      "text/plain": [
       "<Figure size 432x288 with 1 Axes>"
      ]
     },
     "metadata": {
      "needs_background": "light"
     },
     "output_type": "display_data"
    },
    {
     "data": {
      "image/png": "[encoded data removed]",
      "text/plain": [
       "<Figure size 432x288 with 1 Axes>"
      ]
     },
     "metadata": {
      "needs_background": "light"
     },
     "output_type": "display_data"
    }
   ],
   "source": [
    "Day2 = input(\"Select the day to work with: \")\n",
    "ModdedMondays = data\n",
    "ModdedMondays = data[data['DayOfWeek'] == str(Day2)]\n",
    "import math\n",
    "ModdedMondays['Interval_Difference'] = np.ceil(ModdedMondays['Interval_Difference'])\n",
    "ModdedMondays = ModdedMondays.sort_values('Interval_Difference',ascending=True)\n",
    "ModdedMondays\n",
    "ModdedMondays['Observed'] = 1\n",
    "\n",
    "from lifelines import KaplanMeierFitter\n",
    "kmf2 = KaplanMeierFitter()\n",
    "\n",
    "kmf2.fit(ModdedMondays['Interval_Difference'], event_observed=ModdedMondays['Observed'])\n",
    "kmf2.plot()\n",
    "plt.title('PDF of Call Arrivals');\n",
    "\n",
    "\n",
    "\n",
    "kmf2.cumulative_density_.plot()\n",
    "plt.title('CDF of Call Arrivals');\n",
    "plt.show()"
   ]
  },
  {
   "cell_type": "markdown",
   "metadata": {},
   "source": [
    "Computing Mean and Median for each day from the Survival Function:"
   ]
  },
  {
   "cell_type": "code",
   "execution_count": 34,
   "metadata": {},
   "outputs": [
    {
     "name": "stdout",
     "output_type": "stream",
     "text": [
      "Sunday\n",
      "\t Mean :  53.01840272482332\n",
      "\t Median:  37.0\n"
     ]
    }
   ],
   "source": [
    "print(Day2)\n",
    "print('\\t Mean : ',kmf2.survival_function_.KM_estimate.sum())\n",
    "print('\\t Median: ',kmf2.median_survival_time_)\n",
    "\n"
   ]
  },
  {
   "cell_type": "markdown",
   "metadata": {},
   "source": [
    "Monday\n",
    "\t Mean :  18.902488816303332\n",
    "\t Median:  13.0\n",
    "\n",
    "Tuesday\n",
    "\t Mean :  20.1431439469986\n",
    "\t Median:  14.0\n",
    "\n",
    "Wednesday\n",
    "\t Mean :  21.918634423897586\n",
    "\t Median:  15.0\n",
    " \n",
    "Thursday\n",
    "\t Mean :  24.225846347851387\n",
    "\t Median:  17.0\n",
    "     \n",
    "Friday\n",
    "\t Mean :  24.383687718184696\n",
    "\t Median:  17.0\n",
    "     \n",
    "Saturday\n",
    "\t Mean :  42.22590276376843\n",
    "\t Median:  30.0\n",
    "\n",
    "Sunday\n",
    "\t Mean :  53.01840272482332\n",
    "\t Median:  37.0"
   ]
  },
  {
   "cell_type": "markdown",
   "metadata": {},
   "source": [
    "Credits:\n",
    "    \n",
    "    - https://towardsdatascience.com/survival-analysis-part-a-70213df21c2e\n",
    "    - https://towardsdatascience.com/survival-analysis-part-a-70213df21c2e\n",
    "    - http://pages.stat.wisc.edu/~ifischer/Intro_Stat/Lecture_Notes/8_-_Survival_Analysis/8.2_-_Kaplan-Meier_Formula.pdf\n",
    "    - http://biostat.mc.vanderbilt.edu/wiki/pub/Main/ClinStat/km.lam.pdf\n",
    "    - https://www.ncbi.nlm.nih.gov/pmc/articles/PMC3059453/"
   ]
  }
 ],
 "metadata": {
  "kernelspec": {
   "display_name": "Python 3",
   "language": "python",
   "name": "python3"
  },
  "language_info": {
   "codemirror_mode": {
    "name": "ipython",
    "version": 3
   },
   "file_extension": ".py",
   "mimetype": "text/x-python",
   "name": "python",
   "nbconvert_exporter": "python",
   "pygments_lexer": "ipython3",
   "version": "3.7.3"
  }
 },
 "nbformat": 4,
 "nbformat_minor": 4
}
